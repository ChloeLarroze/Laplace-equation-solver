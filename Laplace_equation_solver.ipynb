{
 "cells": [
  {
   "cell_type": "markdown",
   "metadata": {},
   "source": [
    "# Laplace Equation Solver"
   ]
  },
  {
   "cell_type": "markdown",
   "metadata": {},
   "source": [
    "## Introduction\n",
    "\n",
    "In this notebook, we will solve the Laplace equation in two dimensions using an iterative numerical method. We will define various boundary conditions, such as point charge, dipole, and capacitor. This problem is common in electrostatics, where the Laplace equation governs the behavior of electric potential in a region with no charge distribution. The boundary conditions specify how the potential behaves on the edges of the region."
   ]
  },
  {
   "cell_type": "markdown",
   "metadata": {},
   "source": [
    "First, let's do the math : \n",
    "\n",
    "We aim to develop a script that will numerically evaluate the potential \\( V(x, y) \\), which is a solution to the Laplace equation:\n",
    "\n",
    "$$\n",
    "\\nabla^2 V(x, y) = 0\n",
    "$$\n",
    "\n",
    "To achieve this, we adopt the following approach:\n",
    "\n",
    "1. The variables \\( x \\) and \\( y \\) will increment by steps \\( dx = 1 \\) and \\( dy = 1 \\) instead of varying continuously. This allows us to replace the function \\( V(x, y) \\) with a matrix \\( V[i,j] \\), where each element represents the potential at a specific point on the grid.\n",
    "\n",
    "$$\n",
    "\\begin{pmatrix}\n",
    "V_{i-1, j-1} & V_{i,j-1} & V_{i+1,j-1} \\\\\n",
    "V_{i-1,j} & V_{i,j} & V_{i+1,j} \\\\\n",
    "V_{i-1,j+1} & V_{i,j+1} & V_{i+1,j+1}\n",
    "\\end{pmatrix}\n",
    "$$\n"
   ]
  },
  {
   "cell_type": "markdown",
   "metadata": {},
   "source": [
    "The Laplace equation in two dimensions is:\n",
    "\n",
    "$$\n",
    "\\nabla^2 V(x, y) = \\frac{\\partial^2 V}{\\partial x^2} + \\frac{\\partial^2 V}{\\partial y^2}\n",
    "$$\n",
    "\n",
    "We will use Taylor expansions to approximate the second derivatives.\n",
    "\n",
    "\n",
    "\n",
    "\n",
    "The second-order Taylor expansion of \\( V(x_0 + dx, y_0) \\) around \\( (x_0, y_0) \\) is:\n",
    "\n",
    "$$\n",
    "V(x_0 + dx, y_0) = V(x_0, y_0) + dx \\frac{\\partial V}{\\partial x} + \\frac{dx^2}{2} \\frac{\\partial^2 V}{\\partial x^2} + O(dx^3)\n",
    "$$\n",
    "\n",
    "Similarly, the expansion for \\( V(x_0 - dx, y_0) \\) is:\n",
    "\n",
    "$$\n",
    "V(x_0 - dx, y_0) = V(x_0, y_0) - dx \\frac{\\partial V}{\\partial x} + \\frac{dx^2}{2} \\frac{\\partial^2 V}{\\partial x^2} + O(dx^3)\n",
    "$$\n",
    "\n",
    "Adding these two expansions:\n",
    "\n",
    "$$\n",
    "V(x_0 + dx, y_0) + V(x_0 - dx, y_0) = 2V(x_0, y_0) + dx^2 \\frac{\\partial^2 V}{\\partial x^2} + O(dx^3)\n",
    "$$\n",
    "\n",
    "\n",
    "\n",
    "\n",
    "Similarly, for the \\( y \\)-direction:\n",
    "\n",
    "$$\n",
    "V(x_0, y_0 + dy) + V(x_0, y_0 - dy) = 2V(x_0, y_0) + dy^2 \\frac{\\partial^2 V}{\\partial y^2} + O(dy^3)\n",
    "$$\n",
    "\n",
    "\n",
    "\n",
    "\n",
    "Summing the expansions for both \\( x \\)- and \\( y \\)-directions:\n",
    "\n",
    "$$\n",
    "V(x_0 + dx, y_0) + V(x_0 - dx, y_0) + V(x_0, y_0 + dy) + V(x_0, y_0 - dy) = 4V(x_0, y_0) + dx^2 \\frac{\\partial^2 V}{\\partial x^2} + dy^2 \\frac{\\partial^2 V}{\\partial y^2}\n",
    "$$\n",
    "\n",
    "Since \\( dx = dy = 1 \\), this simplifies to:\n",
    "\n",
    "$$\n",
    "\\nabla^2 V(x_0, y_0) \\approx V(x_0 + dx, y_0) + V(x_0 - dx, y_0) + V(x_0, y_0 + dy) + V(x_0, y_0 - dy) - 4V(x_0, y_0)\n",
    "$$\n",
    "\n",
    "Thus, the discrete form of the Laplace equation is:\n",
    "\n",
    "$$\n",
    "V[i,j] = \\frac{V[i-1,j] + V[i+1,j] + V[i,j-1] + V[i,j+1]}{4}\n",
    "$$\n"
   ]
  },
  {
   "cell_type": "markdown",
   "metadata": {},
   "source": [
    "Then, let's break down the code !\n",
    "\n",
    "## Libraries\n",
    "We begin by importing the necessary libraries."
   ]
  },
  {
   "cell_type": "code",
   "execution_count": null,
   "metadata": {},
   "outputs": [],
   "source": [
    "import numpy as np\n",
    "import matplotlib.pyplot as plt\n",
    "from math import *"
   ]
  },
  {
   "cell_type": "markdown",
   "metadata": {},
   "source": [
    "## Constants\n",
    "Define the constants for the problem. \\( V_0 \\) is the potential on the boundary, and \\( V_1 \\) is the potential at specific points.\n"
   ]
  },
  {
   "cell_type": "code",
   "execution_count": null,
   "metadata": {},
   "outputs": [],
   "source": [
    "V0 = 0\n",
    "V1 = 200"
   ]
  },
  {
   "cell_type": "markdown",
   "metadata": {},
   "source": [
    "## Functions to Set Boundary Conditions\n",
    "\n",
    "\n",
    "We will define functions to create various electrostatic configurations. These will modify the boundary conditions in the potential matrix.\n",
    "\n",
    "\n",
    "### Point Charge\n",
    "The `point_charge` function places a single point charge in the center of the grid.\n"
   ]
  },
  {
   "cell_type": "code",
   "execution_count": null,
   "metadata": {},
   "outputs": [],
   "source": [
    "def point_charge(B, tab):\n",
    "    B[N//2, N//2] = 1\n",
    "    tab[N//2, N//2] = V1"
   ]
  },
  {
   "cell_type": "markdown",
   "metadata": {},
   "source": [
    "### Dipole\n",
    "The `dipole` function creates a dipole by placing two opposite charges in the center of the grid."
   ]
  },
  {
   "cell_type": "code",
   "execution_count": null,
   "metadata": {},
   "outputs": [],
   "source": [
    "def dipole(B, t):\n",
    "    B[N//2, N//2 + N//20] = 1\n",
    "    B[N//2, N//2 - N//20] = 1\n",
    "    t[N//2, N//2 + N//20] = -V1\n",
    "    t[N//2, N//2 - N//20] = V1\n"
   ]
  },
  {
   "cell_type": "markdown",
   "metadata": {},
   "source": [
    "### Capacitor\n",
    "The `capacitor` function simulates a parallel plate capacitor by setting the potential at two parallel lines."
   ]
  },
  {
   "cell_type": "code",
   "execution_count": null,
   "metadata": {},
   "outputs": [],
   "source": [
    "def capacitor(B, t):\n",
    "    for j in range(N//2 - N//10, N//2 + N//10):\n",
    "        B[j, N//2 + N//20] = 1\n",
    "        B[j, N//2 - N//20] = 1\n",
    "        t[j, N//2 + N//20] = -V1\n",
    "        t[j, N//2 - N//20] = V1"
   ]
  },
  {
   "cell_type": "markdown",
   "metadata": {},
   "source": [
    "### Tip Effect\n",
    "This function sets up a \"tip effect\" or \"corona discharge\" scenario, where there is a sharp point with varying potential across the boundaries."
   ]
  },
  {
   "cell_type": "code",
   "execution_count": null,
   "metadata": {},
   "outputs": [],
   "source": [
    "def tip_effect(B, V):\n",
    "    Vmin, Vmax = 0, 10 * V1\n",
    "    h, d = 15, 1\n",
    "    \n",
    "    # Bottom and top borders:\n",
    "    B[0, :], B[N-1, :] = 1, 1\n",
    "    V[0, :], V[N-1, :] = Vmin, Vmax\n",
    "\n",
    "    # Left border:\n",
    "    B[:, 0] = 1\n",
    "    V[:, 0] = np.linspace(Vmin, Vmax, N)\n",
    "\n",
    "    # Right border:\n",
    "    B[:, N-1] = 1\n",
    "    V[:, N-1] = np.linspace(Vmin, Vmax, N)\n",
    "    \n",
    "    # Tip:\n",
    "    B[0:h, N//2 - d//2:N//2 + (d+1)//2] = 1\n",
    "    V[0:h, N//2 - d//2:N//2 + (d+1)//2] = Vmin\n",
    "    x, y = h, N//2\n",
    "    for k in range(N):\n",
    "        for i in range(N):\n",
    "            if (k - x)**2 + (i - y)**2 <= (d//2)**2:\n",
    "                B[k, i] = 1\n",
    "                V[k, i] = Vmin\n"
   ]
  },
  {
   "cell_type": "markdown",
   "metadata": {},
   "source": [
    "## Initialization of the Grid\n",
    "\n",
    "The `init_grid` function initializes the grid by setting the boundary conditions using the `tip_effect` method.\n"
   ]
  },
  {
   "cell_type": "code",
   "execution_count": null,
   "metadata": {},
   "outputs": [],
   "source": [
    "def init_grid():\n",
    "    B = np.zeros((N, N))\n",
    "    tab = np.zeros((N, N))\n",
    "    tip_effect(B, tab)\n",
    "    return tab, B"
   ]
  },
  {
   "cell_type": "markdown",
   "metadata": {},
   "source": [
    "## Iterative Solver\n",
    "\n",
    "This function applies the iterative method to solve the Laplace equation, updating the potential based on the average of the neighboring values."
   ]
  },
  {
   "cell_type": "code",
   "execution_count": null,
   "metadata": {},
   "outputs": [],
   "source": [
    "def iterate(tab):\n",
    "    ecart = 0\n",
    "    temp = tab.copy()\n",
    "    for i in range(1, N-1):\n",
    "        for j in range(1, N-1):\n",
    "            if B[i, j] == 0:\n",
    "                temp[i, j] = (tab[i-1, j] + tab[i+1, j] + tab[i, j-1] + tab[i, j+1]) / 4\n",
    "            ecart = max(ecart, abs(temp[i, j] - tab[i, j]))\n",
    "    return temp, ecart\n"
   ]
  },
  {
   "cell_type": "markdown",
   "metadata": {},
   "source": [
    "## Solution Process\n",
    "\n",
    "We now set up the grid and apply the iterative solver until the change in potential between iterations is smaller than a chosen tolerance `eps`.\n"
   ]
  },
  {
   "cell_type": "code",
   "execution_count": null,
   "metadata": {},
   "outputs": [],
   "source": [
    "N = 60  # Grid size\n",
    "eps = 0.3  # Tolerance for convergence\n",
    "\n",
    "pot, B = init_grid()\n",
    "\n",
    "while True:\n",
    "    pot, e = iterate(pot)\n",
    "    if e < eps:\n",
    "        break"
   ]
  },
  {
   "cell_type": "markdown",
   "metadata": {},
   "source": [
    "## Visualization\n",
    "\n",
    "Finally, we visualize the results using a contour plot of the potential and display the boundary conditions as a binary image.\n"
   ]
  },
  {
   "cell_type": "code",
   "execution_count": null,
   "metadata": {},
   "outputs": [],
   "source": [
    "def plot_potential(B, f, color_map=False, n_contours=25):\n",
    "    N, _ = B.shape\n",
    "    plt.figure()\n",
    "    plt.imshow(B, origin='lower', cmap='binary', interpolation='nearest')\n",
    "    if color_map:\n",
    "        plt.imshow(f, origin='lower')\n",
    "        plt.colorbar()\n",
    "    x = np.linspace(0, N-1, N)\n",
    "    y = np.linspace(0, N-1, N)\n",
    "    contours = plt.contour(y, x, f, n_contours, colors='k')\n",
    "    plt.clabel(contours, fmt='%1.1f')\n",
    "    plt.show()\n",
    "\n",
    "plot_potential(B, pot)"
   ]
  },
  {
   "cell_type": "markdown",
   "metadata": {},
   "source": [
    "## Conclusion\n",
    "\n",
    "This notebook presents a simple method for solving the Laplace equation numerically in two dimensions. The potential is computed iteratively based on the boundary conditions, and the results are visualized using contour plots to display the equipotential lines."
   ]
  }
 ],
 "metadata": {
  "kernelspec": {
   "display_name": "Python 3",
   "language": "python",
   "name": "python3"
  },
  "language_info": {
   "name": "python",
   "version": "3.8.4"
  }
 },
 "nbformat": 4,
 "nbformat_minor": 2
}
